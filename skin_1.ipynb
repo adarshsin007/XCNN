{
  "nbformat": 4,
  "nbformat_minor": 0,
  "metadata": {
    "kernelspec": {
      "display_name": "Python 3",
      "language": "python",
      "name": "python3"
    },
    "language_info": {
      "codemirror_mode": {
        "name": "ipython",
        "version": 3
      },
      "file_extension": ".py",
      "mimetype": "text/x-python",
      "name": "python",
      "nbconvert_exporter": "python",
      "pygments_lexer": "ipython3",
      "version": "3.7.9"
    },
    "colab": {
      "provenance": []
    },
    "accelerator": "GPU"
  },
  "cells": [
    {
      "cell_type": "markdown",
      "metadata": {
        "id": "x97BxNBCguKV"
      },
      "source": [
        "# Skin Disease Analyzer on MCNN"
      ]
    },
    {
      "cell_type": "code",
      "metadata": {
        "id": "ji-LE0bLg4mK",
        "colab": {
          "base_uri": "https://localhost:8080/"
        },
        "outputId": "681ca835-6607-4f31-c5ee-634cbbf73e60"
      },
      "source": [
        "from google.colab import drive\n",
        "drive.mount('/content/drive')"
      ],
      "execution_count": null,
      "outputs": [
        {
          "output_type": "stream",
          "text": [
            "Mounted at /content/drive\n"
          ],
          "name": "stdout"
        }
      ]
    },
    {
      "cell_type": "code",
      "metadata": {
        "id": "CGevw3hSguKi"
      },
      "source": [
        "from keras.preprocessing.image import ImageDataGenerator\n",
        "from keras.models import Sequential\n",
        "from keras.layers import Conv2D, MaxPooling2D\n",
        "from keras.layers import Activation, Dropout, Flatten, Dense\n",
        "from keras import backend as K\n",
        "from sklearn.metrics import classification_report, confusion_matrix\n",
        "import numpy as np"
      ],
      "execution_count": null,
      "outputs": []
    },
    {
      "cell_type": "code",
      "metadata": {
        "id": "eemKzVwnguKl"
      },
      "source": [
        "img_width, img_height = 200, 200"
      ],
      "execution_count": null,
      "outputs": []
    },
    {
      "cell_type": "code",
      "metadata": {
        "id": "DSRbidISguKl"
      },
      "source": [
        "train_data_dir = \"drive/MyDrive/train\"\n",
        "validation_data_dir = \"drive/MyDrive/test\"\n",
        "nb_train_samples = 1600\n",
        "nb_validation_samples = 400\n",
        "epochs = 112\n",
        "batch_size = 30 #16"
      ],
      "execution_count": null,
      "outputs": []
    },
    {
      "cell_type": "code",
      "metadata": {
        "id": "r6UoiH9UguKm"
      },
      "source": [
        "if K.image_data_format() == 'channels_first':\n",
        "    input_shape = (3, img_width, img_height)\n",
        "else:\n",
        "    input_shape = (img_width, img_height, 3)"
      ],
      "execution_count": null,
      "outputs": []
    },
    {
      "cell_type": "code",
      "metadata": {
        "id": "TOF59mXwguKn"
      },
      "source": [
        "train_datagen = ImageDataGenerator(\n",
        "    rescale = 1. / 255,\n",
        "    shear_range = 0.2,\n",
        "    zoom_range= 0.2,\n",
        "    horizontal_flip= True)\n",
        "\n",
        "test_datagen = ImageDataGenerator(rescale=1. / 255)"
      ],
      "execution_count": null,
      "outputs": []
    },
    {
      "cell_type": "code",
      "metadata": {
        "id": "qbArQDJxguKo",
        "colab": {
          "base_uri": "https://localhost:8080/"
        },
        "outputId": "0437d8e1-f7fa-4f8e-ccaa-acc704740066"
      },
      "source": [
        "train_generator = train_datagen.flow_from_directory(\n",
        "    train_data_dir,\n",
        "    target_size= (img_width, img_height),\n",
        "    batch_size= batch_size,\n",
        "    class_mode= 'categorical')\n",
        "\n",
        "validation_generator = test_datagen.flow_from_directory(\n",
        "    validation_data_dir,\n",
        "    target_size= (img_width, img_height),\n",
        "    batch_size= batch_size,\n",
        "    class_mode= 'categorical')"
      ],
      "execution_count": null,
      "outputs": [
        {
          "output_type": "stream",
          "text": [
            "Found 1600 images belonging to 4 classes.\n",
            "Found 400 images belonging to 4 classes.\n"
          ],
          "name": "stdout"
        }
      ]
    },
    {
      "cell_type": "code",
      "metadata": {
        "id": "bDGiHNPsguKo",
        "colab": {
          "base_uri": "https://localhost:8080/"
        },
        "outputId": "e8a99a6c-c86c-4067-b83b-c37d853ea1da"
      },
      "source": [
        "model = Sequential()\n",
        "\n",
        "model.add(Conv2D(32, (3, 3), input_shape = input_shape))\n",
        "model.add(Activation('relu'))\n",
        "model.add(MaxPooling2D(pool_size= (2, 2)))\n",
        "\n",
        "model.add(Conv2D(32, (3, 3)))\n",
        "model.add(Activation('relu'))\n",
        "model.add(MaxPooling2D(pool_size= (2, 2)))\n",
        "\n",
        "model.add(Conv2D(64, (3, 3)))\n",
        "model.add(Activation('relu'))\n",
        "model.add(MaxPooling2D(pool_size= (2, 2)))\n",
        "model.add(Dropout(0.2))\n",
        "\n",
        "model.add(Conv2D(128, (3, 3)))\n",
        "model.add(Activation('relu'))\n",
        "model.add(MaxPooling2D(pool_size= (2, 2)))\n",
        "model.add(Dropout(0.2))\n",
        "\n",
        "model.add(Conv2D(256, (3, 3)))\n",
        "model.add(Activation('relu'))\n",
        "model.add(MaxPooling2D(pool_size= (2, 2)))\n",
        "model.add(Dropout(0.2))\n",
        "\n",
        "model.add(Flatten())\n",
        "model.add(Dense(128))\n",
        "model.add(Dropout(0.5))\n",
        "model.add(Dense(4))\n",
        "model.add(Activation('softmax'))\n",
        "model.summary()"
      ],
      "execution_count": null,
      "outputs": [
        {
          "output_type": "stream",
          "text": [
            "Model: \"sequential\"\n",
            "_________________________________________________________________\n",
            "Layer (type)                 Output Shape              Param #   \n",
            "=================================================================\n",
            "conv2d (Conv2D)              (None, 198, 198, 32)      896       \n",
            "_________________________________________________________________\n",
            "activation (Activation)      (None, 198, 198, 32)      0         \n",
            "_________________________________________________________________\n",
            "max_pooling2d (MaxPooling2D) (None, 99, 99, 32)        0         \n",
            "_________________________________________________________________\n",
            "conv2d_1 (Conv2D)            (None, 97, 97, 32)        9248      \n",
            "_________________________________________________________________\n",
            "activation_1 (Activation)    (None, 97, 97, 32)        0         \n",
            "_________________________________________________________________\n",
            "max_pooling2d_1 (MaxPooling2 (None, 48, 48, 32)        0         \n",
            "_________________________________________________________________\n",
            "conv2d_2 (Conv2D)            (None, 46, 46, 64)        18496     \n",
            "_________________________________________________________________\n",
            "activation_2 (Activation)    (None, 46, 46, 64)        0         \n",
            "_________________________________________________________________\n",
            "max_pooling2d_2 (MaxPooling2 (None, 23, 23, 64)        0         \n",
            "_________________________________________________________________\n",
            "dropout (Dropout)            (None, 23, 23, 64)        0         \n",
            "_________________________________________________________________\n",
            "conv2d_3 (Conv2D)            (None, 21, 21, 128)       73856     \n",
            "_________________________________________________________________\n",
            "activation_3 (Activation)    (None, 21, 21, 128)       0         \n",
            "_________________________________________________________________\n",
            "max_pooling2d_3 (MaxPooling2 (None, 10, 10, 128)       0         \n",
            "_________________________________________________________________\n",
            "dropout_1 (Dropout)          (None, 10, 10, 128)       0         \n",
            "_________________________________________________________________\n",
            "conv2d_4 (Conv2D)            (None, 8, 8, 256)         295168    \n",
            "_________________________________________________________________\n",
            "activation_4 (Activation)    (None, 8, 8, 256)         0         \n",
            "_________________________________________________________________\n",
            "max_pooling2d_4 (MaxPooling2 (None, 4, 4, 256)         0         \n",
            "_________________________________________________________________\n",
            "dropout_2 (Dropout)          (None, 4, 4, 256)         0         \n",
            "_________________________________________________________________\n",
            "flatten (Flatten)            (None, 4096)              0         \n",
            "_________________________________________________________________\n",
            "dense (Dense)                (None, 128)               524416    \n",
            "_________________________________________________________________\n",
            "dropout_3 (Dropout)          (None, 128)               0         \n",
            "_________________________________________________________________\n",
            "dense_1 (Dense)              (None, 4)                 516       \n",
            "_________________________________________________________________\n",
            "activation_5 (Activation)    (None, 4)                 0         \n",
            "=================================================================\n",
            "Total params: 922,596\n",
            "Trainable params: 922,596\n",
            "Non-trainable params: 0\n",
            "_________________________________________________________________\n"
          ],
          "name": "stdout"
        }
      ]
    },
    {
      "cell_type": "code",
      "metadata": {
        "id": "yEACOM-aguKq"
      },
      "source": [
        "model.compile(loss= 'categorical_crossentropy',\n",
        "    optimizer= 'adam',\n",
        "    metrics= ['accuracy'] )"
      ],
      "execution_count": null,
      "outputs": []
    },
    {
      "cell_type": "code",
      "metadata": {
        "id": "J6dapmSbguKr",
        "colab": {
          "base_uri": "https://localhost:8080/"
        },
        "outputId": "8fc5acbc-297c-4959-83e7-18abd2ab5cac"
      },
      "source": [
        "model.fit(\n",
        "    train_generator,\n",
        "    steps_per_epoch= nb_train_samples // batch_size,\n",
        "    epochs= epochs,\n",
        "    validation_data= validation_generator,\n",
        "    validation_steps= nb_validation_samples // batch_size)\n",
        "model.save_weights(\"drive/MyDrive/SDA.h5\")\n",
        "print(\"Completed!!\")"
      ],
      "execution_count": null,
      "outputs": [
        {
          "output_type": "stream",
          "text": [
            "Epoch 1/112\n",
            "53/53 [==============================] - 529s 9s/step - loss: 1.3930 - accuracy: 0.2563 - val_loss: 1.3849 - val_accuracy: 0.2487\n",
            "Epoch 2/112\n",
            "53/53 [==============================] - 24s 462ms/step - loss: 1.3677 - accuracy: 0.2737 - val_loss: 1.1603 - val_accuracy: 0.4821\n",
            "Epoch 3/112\n",
            "53/53 [==============================] - 24s 461ms/step - loss: 1.1402 - accuracy: 0.4870 - val_loss: 1.1156 - val_accuracy: 0.4641\n",
            "Epoch 4/112\n",
            "53/53 [==============================] - 24s 457ms/step - loss: 1.0256 - accuracy: 0.5489 - val_loss: 0.9746 - val_accuracy: 0.5385\n",
            "Epoch 5/112\n",
            "53/53 [==============================] - 24s 458ms/step - loss: 1.0543 - accuracy: 0.5525 - val_loss: 1.0757 - val_accuracy: 0.4513\n",
            "Epoch 6/112\n",
            "53/53 [==============================] - 24s 458ms/step - loss: 1.0139 - accuracy: 0.5434 - val_loss: 0.9680 - val_accuracy: 0.5538\n",
            "Epoch 7/112\n",
            "53/53 [==============================] - 24s 460ms/step - loss: 0.9259 - accuracy: 0.5977 - val_loss: 0.9342 - val_accuracy: 0.5974\n",
            "Epoch 8/112\n",
            "53/53 [==============================] - 24s 463ms/step - loss: 0.9496 - accuracy: 0.5979 - val_loss: 0.8656 - val_accuracy: 0.6308\n",
            "Epoch 9/112\n",
            "53/53 [==============================] - 24s 459ms/step - loss: 0.8893 - accuracy: 0.6404 - val_loss: 0.8316 - val_accuracy: 0.6436\n",
            "Epoch 10/112\n",
            "53/53 [==============================] - 24s 463ms/step - loss: 0.8783 - accuracy: 0.6363 - val_loss: 0.8208 - val_accuracy: 0.6667\n",
            "Epoch 11/112\n",
            "53/53 [==============================] - 24s 467ms/step - loss: 0.8517 - accuracy: 0.6550 - val_loss: 0.9109 - val_accuracy: 0.6154\n",
            "Epoch 12/112\n",
            "53/53 [==============================] - 24s 460ms/step - loss: 0.8858 - accuracy: 0.6340 - val_loss: 0.8203 - val_accuracy: 0.6718\n",
            "Epoch 13/112\n",
            "53/53 [==============================] - 24s 458ms/step - loss: 0.8780 - accuracy: 0.6255 - val_loss: 0.8068 - val_accuracy: 0.6667\n",
            "Epoch 14/112\n",
            "53/53 [==============================] - 25s 465ms/step - loss: 0.8472 - accuracy: 0.6394 - val_loss: 0.7786 - val_accuracy: 0.6718\n",
            "Epoch 15/112\n",
            "53/53 [==============================] - 24s 461ms/step - loss: 0.8184 - accuracy: 0.6696 - val_loss: 0.7704 - val_accuracy: 0.7026\n",
            "Epoch 16/112\n",
            "53/53 [==============================] - 25s 463ms/step - loss: 0.8035 - accuracy: 0.6790 - val_loss: 0.7977 - val_accuracy: 0.6462\n",
            "Epoch 17/112\n",
            "53/53 [==============================] - 24s 460ms/step - loss: 0.7746 - accuracy: 0.6737 - val_loss: 0.7468 - val_accuracy: 0.6692\n",
            "Epoch 18/112\n",
            "53/53 [==============================] - 24s 460ms/step - loss: 0.7946 - accuracy: 0.6587 - val_loss: 0.7319 - val_accuracy: 0.6872\n",
            "Epoch 19/112\n",
            "53/53 [==============================] - 24s 460ms/step - loss: 0.7496 - accuracy: 0.6853 - val_loss: 0.8055 - val_accuracy: 0.6564\n",
            "Epoch 20/112\n",
            "53/53 [==============================] - 24s 461ms/step - loss: 0.7673 - accuracy: 0.6970 - val_loss: 0.7729 - val_accuracy: 0.7000\n",
            "Epoch 21/112\n",
            "53/53 [==============================] - 24s 460ms/step - loss: 0.7483 - accuracy: 0.6856 - val_loss: 0.7440 - val_accuracy: 0.6897\n",
            "Epoch 22/112\n",
            "53/53 [==============================] - 25s 465ms/step - loss: 0.7092 - accuracy: 0.6999 - val_loss: 0.8166 - val_accuracy: 0.6385\n",
            "Epoch 23/112\n",
            "53/53 [==============================] - 25s 467ms/step - loss: 0.7501 - accuracy: 0.6818 - val_loss: 0.6989 - val_accuracy: 0.7179\n",
            "Epoch 24/112\n",
            "53/53 [==============================] - 24s 457ms/step - loss: 0.6816 - accuracy: 0.7226 - val_loss: 0.7312 - val_accuracy: 0.7026\n",
            "Epoch 25/112\n",
            "53/53 [==============================] - 24s 462ms/step - loss: 0.7308 - accuracy: 0.7055 - val_loss: 0.7661 - val_accuracy: 0.6821\n",
            "Epoch 26/112\n",
            "53/53 [==============================] - 24s 462ms/step - loss: 0.7001 - accuracy: 0.7216 - val_loss: 0.7583 - val_accuracy: 0.6846\n",
            "Epoch 27/112\n",
            "53/53 [==============================] - 24s 461ms/step - loss: 0.6672 - accuracy: 0.7144 - val_loss: 0.7462 - val_accuracy: 0.6974\n",
            "Epoch 28/112\n",
            "53/53 [==============================] - 24s 459ms/step - loss: 0.6888 - accuracy: 0.7265 - val_loss: 0.6807 - val_accuracy: 0.7179\n",
            "Epoch 29/112\n",
            "53/53 [==============================] - 24s 461ms/step - loss: 0.6672 - accuracy: 0.7248 - val_loss: 0.6829 - val_accuracy: 0.7282\n",
            "Epoch 30/112\n",
            "53/53 [==============================] - 25s 466ms/step - loss: 0.7267 - accuracy: 0.7128 - val_loss: 0.7146 - val_accuracy: 0.7077\n",
            "Epoch 31/112\n",
            "53/53 [==============================] - 25s 464ms/step - loss: 0.6974 - accuracy: 0.7298 - val_loss: 0.7113 - val_accuracy: 0.6897\n",
            "Epoch 32/112\n",
            "53/53 [==============================] - 25s 465ms/step - loss: 0.6663 - accuracy: 0.7415 - val_loss: 0.7163 - val_accuracy: 0.6897\n",
            "Epoch 33/112\n",
            "53/53 [==============================] - 24s 458ms/step - loss: 0.6744 - accuracy: 0.7238 - val_loss: 0.6779 - val_accuracy: 0.7128\n",
            "Epoch 34/112\n",
            "53/53 [==============================] - 24s 457ms/step - loss: 0.6323 - accuracy: 0.7667 - val_loss: 0.6810 - val_accuracy: 0.7179\n",
            "Epoch 35/112\n",
            "53/53 [==============================] - 24s 461ms/step - loss: 0.6040 - accuracy: 0.7629 - val_loss: 0.7321 - val_accuracy: 0.6846\n",
            "Epoch 36/112\n",
            "53/53 [==============================] - 24s 461ms/step - loss: 0.6212 - accuracy: 0.7457 - val_loss: 0.6523 - val_accuracy: 0.7538\n",
            "Epoch 37/112\n",
            "53/53 [==============================] - 24s 458ms/step - loss: 0.5724 - accuracy: 0.7815 - val_loss: 0.6883 - val_accuracy: 0.7077\n",
            "Epoch 38/112\n",
            "53/53 [==============================] - 24s 459ms/step - loss: 0.5894 - accuracy: 0.7586 - val_loss: 0.7294 - val_accuracy: 0.7179\n",
            "Epoch 39/112\n",
            "53/53 [==============================] - 24s 460ms/step - loss: 0.5663 - accuracy: 0.7693 - val_loss: 0.8304 - val_accuracy: 0.7077\n",
            "Epoch 40/112\n",
            "53/53 [==============================] - 24s 458ms/step - loss: 0.6270 - accuracy: 0.7439 - val_loss: 0.6602 - val_accuracy: 0.7256\n",
            "Epoch 41/112\n",
            "53/53 [==============================] - 24s 456ms/step - loss: 0.5331 - accuracy: 0.7994 - val_loss: 0.7168 - val_accuracy: 0.6795\n",
            "Epoch 42/112\n",
            "53/53 [==============================] - 24s 459ms/step - loss: 0.5197 - accuracy: 0.7831 - val_loss: 0.6910 - val_accuracy: 0.7231\n",
            "Epoch 43/112\n",
            "53/53 [==============================] - 24s 456ms/step - loss: 0.5239 - accuracy: 0.8085 - val_loss: 0.6698 - val_accuracy: 0.7205\n",
            "Epoch 44/112\n",
            "53/53 [==============================] - 24s 455ms/step - loss: 0.5131 - accuracy: 0.7954 - val_loss: 0.7812 - val_accuracy: 0.7051\n",
            "Epoch 45/112\n",
            "53/53 [==============================] - 24s 455ms/step - loss: 0.5823 - accuracy: 0.7698 - val_loss: 0.6710 - val_accuracy: 0.7128\n",
            "Epoch 46/112\n",
            "53/53 [==============================] - 24s 458ms/step - loss: 0.5314 - accuracy: 0.7931 - val_loss: 0.6497 - val_accuracy: 0.7333\n",
            "Epoch 47/112\n",
            "53/53 [==============================] - 24s 457ms/step - loss: 0.5378 - accuracy: 0.7870 - val_loss: 0.6509 - val_accuracy: 0.7359\n",
            "Epoch 48/112\n",
            "53/53 [==============================] - 24s 455ms/step - loss: 0.4710 - accuracy: 0.8167 - val_loss: 0.6432 - val_accuracy: 0.7538\n",
            "Epoch 49/112\n",
            "53/53 [==============================] - 25s 466ms/step - loss: 0.5076 - accuracy: 0.8105 - val_loss: 0.7085 - val_accuracy: 0.7205\n",
            "Epoch 50/112\n",
            "53/53 [==============================] - 24s 458ms/step - loss: 0.5176 - accuracy: 0.8090 - val_loss: 0.6625 - val_accuracy: 0.7667\n",
            "Epoch 51/112\n",
            "53/53 [==============================] - 24s 459ms/step - loss: 0.4555 - accuracy: 0.8306 - val_loss: 0.6948 - val_accuracy: 0.7462\n",
            "Epoch 52/112\n",
            "53/53 [==============================] - 25s 464ms/step - loss: 0.4973 - accuracy: 0.7980 - val_loss: 0.6740 - val_accuracy: 0.7410\n",
            "Epoch 53/112\n",
            "53/53 [==============================] - 24s 459ms/step - loss: 0.4930 - accuracy: 0.8117 - val_loss: 0.6990 - val_accuracy: 0.7615\n",
            "Epoch 54/112\n",
            "53/53 [==============================] - 24s 457ms/step - loss: 0.4703 - accuracy: 0.8059 - val_loss: 0.6639 - val_accuracy: 0.7231\n",
            "Epoch 55/112\n",
            "53/53 [==============================] - 24s 462ms/step - loss: 0.4761 - accuracy: 0.8065 - val_loss: 0.6932 - val_accuracy: 0.7462\n",
            "Epoch 56/112\n",
            "53/53 [==============================] - 25s 465ms/step - loss: 0.4564 - accuracy: 0.8134 - val_loss: 0.7225 - val_accuracy: 0.7231\n",
            "Epoch 57/112\n",
            "53/53 [==============================] - 25s 463ms/step - loss: 0.4482 - accuracy: 0.8292 - val_loss: 0.7383 - val_accuracy: 0.7359\n",
            "Epoch 58/112\n",
            "53/53 [==============================] - 24s 463ms/step - loss: 0.4831 - accuracy: 0.8128 - val_loss: 0.6698 - val_accuracy: 0.7359\n",
            "Epoch 59/112\n",
            "53/53 [==============================] - 24s 462ms/step - loss: 0.4389 - accuracy: 0.8412 - val_loss: 0.7274 - val_accuracy: 0.7333\n",
            "Epoch 60/112\n",
            "53/53 [==============================] - 24s 458ms/step - loss: 0.5618 - accuracy: 0.7905 - val_loss: 0.6464 - val_accuracy: 0.7538\n",
            "Epoch 61/112\n",
            "53/53 [==============================] - 24s 462ms/step - loss: 0.4731 - accuracy: 0.8152 - val_loss: 0.7477 - val_accuracy: 0.7359\n",
            "Epoch 62/112\n",
            "53/53 [==============================] - 25s 466ms/step - loss: 0.4680 - accuracy: 0.8288 - val_loss: 0.7153 - val_accuracy: 0.7641\n",
            "Epoch 63/112\n",
            "53/53 [==============================] - 24s 462ms/step - loss: 0.4354 - accuracy: 0.8194 - val_loss: 0.6417 - val_accuracy: 0.7692\n",
            "Epoch 64/112\n",
            "53/53 [==============================] - 25s 467ms/step - loss: 0.4568 - accuracy: 0.8439 - val_loss: 0.6917 - val_accuracy: 0.7513\n",
            "Epoch 65/112\n",
            "53/53 [==============================] - 25s 463ms/step - loss: 0.3896 - accuracy: 0.8459 - val_loss: 0.7435 - val_accuracy: 0.7487\n",
            "Epoch 66/112\n",
            "53/53 [==============================] - 24s 459ms/step - loss: 0.4530 - accuracy: 0.8159 - val_loss: 0.6856 - val_accuracy: 0.7513\n",
            "Epoch 67/112\n",
            "53/53 [==============================] - 24s 461ms/step - loss: 0.3811 - accuracy: 0.8450 - val_loss: 0.7249 - val_accuracy: 0.7385\n",
            "Epoch 68/112\n",
            "53/53 [==============================] - 24s 460ms/step - loss: 0.3950 - accuracy: 0.8534 - val_loss: 0.7592 - val_accuracy: 0.7282\n",
            "Epoch 69/112\n",
            "53/53 [==============================] - 25s 464ms/step - loss: 0.4134 - accuracy: 0.8489 - val_loss: 0.8330 - val_accuracy: 0.7436\n",
            "Epoch 70/112\n",
            "53/53 [==============================] - 24s 459ms/step - loss: 0.5296 - accuracy: 0.8012 - val_loss: 0.6232 - val_accuracy: 0.7692\n",
            "Epoch 71/112\n",
            "53/53 [==============================] - 24s 459ms/step - loss: 0.4258 - accuracy: 0.8471 - val_loss: 0.6346 - val_accuracy: 0.7718\n",
            "Epoch 72/112\n",
            "53/53 [==============================] - 24s 461ms/step - loss: 0.4082 - accuracy: 0.8467 - val_loss: 0.7296 - val_accuracy: 0.7538\n",
            "Epoch 73/112\n",
            "53/53 [==============================] - 24s 458ms/step - loss: 0.3392 - accuracy: 0.8687 - val_loss: 0.6797 - val_accuracy: 0.7590\n",
            "Epoch 74/112\n",
            "53/53 [==============================] - 25s 466ms/step - loss: 0.3868 - accuracy: 0.8371 - val_loss: 0.6793 - val_accuracy: 0.7641\n",
            "Epoch 75/112\n",
            "53/53 [==============================] - 25s 464ms/step - loss: 0.3497 - accuracy: 0.8742 - val_loss: 0.7146 - val_accuracy: 0.7538\n",
            "Epoch 76/112\n",
            "53/53 [==============================] - 24s 458ms/step - loss: 0.3870 - accuracy: 0.8570 - val_loss: 0.6130 - val_accuracy: 0.7769\n",
            "Epoch 77/112\n",
            "53/53 [==============================] - 25s 463ms/step - loss: 0.3522 - accuracy: 0.8729 - val_loss: 0.7727 - val_accuracy: 0.7667\n",
            "Epoch 78/112\n",
            "53/53 [==============================] - 24s 461ms/step - loss: 0.3941 - accuracy: 0.8501 - val_loss: 0.6371 - val_accuracy: 0.7974\n",
            "Epoch 79/112\n",
            "53/53 [==============================] - 25s 463ms/step - loss: 0.3384 - accuracy: 0.8568 - val_loss: 0.6796 - val_accuracy: 0.7462\n",
            "Epoch 80/112\n",
            "53/53 [==============================] - 24s 461ms/step - loss: 0.3952 - accuracy: 0.8525 - val_loss: 0.7161 - val_accuracy: 0.7231\n",
            "Epoch 81/112\n",
            "53/53 [==============================] - 24s 461ms/step - loss: 0.3255 - accuracy: 0.8700 - val_loss: 0.6344 - val_accuracy: 0.7846\n",
            "Epoch 82/112\n",
            "53/53 [==============================] - 24s 462ms/step - loss: 0.3802 - accuracy: 0.8549 - val_loss: 0.6535 - val_accuracy: 0.7744\n",
            "Epoch 83/112\n",
            "53/53 [==============================] - 24s 464ms/step - loss: 0.3180 - accuracy: 0.8758 - val_loss: 0.6285 - val_accuracy: 0.7846\n",
            "Epoch 84/112\n",
            "53/53 [==============================] - 24s 458ms/step - loss: 0.3651 - accuracy: 0.8669 - val_loss: 0.6310 - val_accuracy: 0.7641\n",
            "Epoch 85/112\n",
            "53/53 [==============================] - 25s 463ms/step - loss: 0.3163 - accuracy: 0.8906 - val_loss: 0.6498 - val_accuracy: 0.7513\n",
            "Epoch 86/112\n",
            "53/53 [==============================] - 24s 462ms/step - loss: 0.3364 - accuracy: 0.8693 - val_loss: 0.7300 - val_accuracy: 0.7564\n",
            "Epoch 87/112\n",
            "53/53 [==============================] - 25s 466ms/step - loss: 0.3006 - accuracy: 0.8854 - val_loss: 0.7393 - val_accuracy: 0.7667\n",
            "Epoch 88/112\n",
            "53/53 [==============================] - 24s 461ms/step - loss: 0.3268 - accuracy: 0.8813 - val_loss: 0.6996 - val_accuracy: 0.7795\n",
            "Epoch 89/112\n",
            "53/53 [==============================] - 24s 463ms/step - loss: 0.3002 - accuracy: 0.8837 - val_loss: 0.7899 - val_accuracy: 0.7410\n",
            "Epoch 90/112\n",
            "53/53 [==============================] - 24s 460ms/step - loss: 0.3276 - accuracy: 0.8910 - val_loss: 0.7774 - val_accuracy: 0.7564\n",
            "Epoch 91/112\n",
            "53/53 [==============================] - 24s 465ms/step - loss: 0.3245 - accuracy: 0.8892 - val_loss: 0.8816 - val_accuracy: 0.7410\n",
            "Epoch 92/112\n",
            "53/53 [==============================] - 25s 463ms/step - loss: 0.3302 - accuracy: 0.8910 - val_loss: 0.7807 - val_accuracy: 0.7590\n",
            "Epoch 93/112\n",
            "53/53 [==============================] - 24s 460ms/step - loss: 0.2970 - accuracy: 0.8747 - val_loss: 0.7659 - val_accuracy: 0.7641\n",
            "Epoch 94/112\n",
            "53/53 [==============================] - 24s 460ms/step - loss: 0.2461 - accuracy: 0.9018 - val_loss: 0.8561 - val_accuracy: 0.7308\n",
            "Epoch 95/112\n",
            "53/53 [==============================] - 25s 464ms/step - loss: 0.2874 - accuracy: 0.8904 - val_loss: 0.7860 - val_accuracy: 0.7538\n",
            "Epoch 96/112\n",
            "53/53 [==============================] - 24s 461ms/step - loss: 0.3494 - accuracy: 0.8750 - val_loss: 0.7119 - val_accuracy: 0.7667\n",
            "Epoch 97/112\n",
            "53/53 [==============================] - 24s 462ms/step - loss: 0.2645 - accuracy: 0.9012 - val_loss: 0.6699 - val_accuracy: 0.7897\n",
            "Epoch 98/112\n",
            "53/53 [==============================] - 24s 460ms/step - loss: 0.2756 - accuracy: 0.9062 - val_loss: 0.7206 - val_accuracy: 0.7769\n",
            "Epoch 99/112\n",
            "53/53 [==============================] - 24s 462ms/step - loss: 0.2575 - accuracy: 0.9089 - val_loss: 0.7389 - val_accuracy: 0.7538\n",
            "Epoch 100/112\n",
            "53/53 [==============================] - 25s 464ms/step - loss: 0.3514 - accuracy: 0.8705 - val_loss: 0.7574 - val_accuracy: 0.7692\n",
            "Epoch 101/112\n",
            "53/53 [==============================] - 25s 463ms/step - loss: 0.2864 - accuracy: 0.8826 - val_loss: 0.8257 - val_accuracy: 0.7641\n",
            "Epoch 102/112\n",
            "53/53 [==============================] - 25s 465ms/step - loss: 0.2729 - accuracy: 0.8898 - val_loss: 0.6792 - val_accuracy: 0.7590\n",
            "Epoch 103/112\n",
            "53/53 [==============================] - 24s 459ms/step - loss: 0.2826 - accuracy: 0.8909 - val_loss: 0.6602 - val_accuracy: 0.7821\n",
            "Epoch 104/112\n",
            "53/53 [==============================] - 24s 461ms/step - loss: 0.2499 - accuracy: 0.9042 - val_loss: 0.8422 - val_accuracy: 0.7436\n",
            "Epoch 105/112\n",
            "53/53 [==============================] - 25s 463ms/step - loss: 0.2561 - accuracy: 0.9123 - val_loss: 0.7405 - val_accuracy: 0.8128\n",
            "Epoch 106/112\n",
            "53/53 [==============================] - 24s 461ms/step - loss: 0.2988 - accuracy: 0.8967 - val_loss: 0.8135 - val_accuracy: 0.7538\n",
            "Epoch 107/112\n",
            "53/53 [==============================] - 24s 460ms/step - loss: 0.3523 - accuracy: 0.8713 - val_loss: 0.6821 - val_accuracy: 0.7949\n",
            "Epoch 108/112\n",
            "53/53 [==============================] - 25s 463ms/step - loss: 0.2749 - accuracy: 0.9002 - val_loss: 0.7842 - val_accuracy: 0.7615\n",
            "Epoch 109/112\n",
            "53/53 [==============================] - 24s 462ms/step - loss: 0.2558 - accuracy: 0.9036 - val_loss: 0.7885 - val_accuracy: 0.7744\n",
            "Epoch 110/112\n",
            "53/53 [==============================] - 24s 460ms/step - loss: 0.2827 - accuracy: 0.8978 - val_loss: 0.7575 - val_accuracy: 0.7615\n",
            "Epoch 111/112\n",
            "53/53 [==============================] - 24s 462ms/step - loss: 0.2011 - accuracy: 0.9281 - val_loss: 0.7714 - val_accuracy: 0.7769\n",
            "Epoch 112/112\n",
            "53/53 [==============================] - 25s 469ms/step - loss: 0.3160 - accuracy: 0.8767 - val_loss: 0.7558 - val_accuracy: 0.7872\n",
            "Completed!!\n"
          ],
          "name": "stdout"
        }
      ]
    },
    {
      "cell_type": "code",
      "metadata": {
        "id": "aumG9PbK1353",
        "colab": {
          "base_uri": "https://localhost:8080/"
        },
        "outputId": "f42c72e5-8862-4dfa-bd95-5a9a4ce41d77"
      },
      "source": [
        "Y_pred = model.predict(validation_generator, \n",
        "                       nb_validation_samples // batch_size+1)\n",
        "y_pred = np.argmax(Y_pred, axis=1)\n",
        "print('Confusion Matrix')\n",
        "print(confusion_matrix(validation_generator.classes, y_pred))\n",
        "print('Classification Report')\n",
        "target_names = ['Acne and Rosacea', 'Eczema', \n",
        "                'Melanoma Skin Cancer, Nevi and Moles', \n",
        "                'Psoriasis pictures Lichen Planus and related diseases']\n",
        "print(classification_report(validation_generator.classes, y_pred, \n",
        "                            target_names=target_names))"
      ],
      "execution_count": null,
      "outputs": [
        {
          "output_type": "stream",
          "text": [
            "Confusion Matrix\n",
            "[[36 19 23 22]\n",
            " [31 27 24 18]\n",
            " [24 30 22 24]\n",
            " [30 38 16 16]]\n",
            "Classification Report\n",
            "                                                       precision    recall  f1-score   support\n",
            "\n",
            "                                     Acne and Rosacea       0.30      0.36      0.33       100\n",
            "                                               Eczema       0.24      0.27      0.25       100\n",
            "                 Melanoma Skin Cancer, Nevi and Moles       0.26      0.22      0.24       100\n",
            "Psoriasis pictures Lichen Planus and related diseases       0.20      0.16      0.18       100\n",
            "\n",
            "                                             accuracy                           0.25       400\n",
            "                                            macro avg       0.25      0.25      0.25       400\n",
            "                                         weighted avg       0.25      0.25      0.25       400\n",
            "\n"
          ],
          "name": "stdout"
        }
      ]
    }
  ]
}